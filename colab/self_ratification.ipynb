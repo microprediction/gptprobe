{
  "nbformat": 4,
  "nbformat_minor": 0,
  "metadata": {
    "colab": {
      "provenance": [],
      "authorship_tag": "ABX9TyP/bO4CicZde+2O5E2bypzD",
      "include_colab_link": true
    },
    "kernelspec": {
      "name": "python3",
      "display_name": "Python 3"
    },
    "language_info": {
      "name": "python"
    }
  },
  "cells": [
    {
      "cell_type": "markdown",
      "metadata": {
        "id": "view-in-github",
        "colab_type": "text"
      },
      "source": [
        "<a href=\"https://colab.research.google.com/github/microprediction/gptprobe/blob/main/colab/self_ratification.ipynb\" target=\"_parent\"><img src=\"https://colab.research.google.com/assets/colab-badge.svg\" alt=\"Open In Colab\"/></a>"
      ]
    },
    {
      "cell_type": "code",
      "execution_count": null,
      "metadata": {
        "id": "tie1fmkDtL45"
      },
      "outputs": [],
      "source": [
        "!pip install --upgrade git+https://github.com/microprediction/gptprobe.git\n",
        "# or just pip install gptprobe"
      ]
    },
    {
      "cell_type": "markdown",
      "source": [
        "# Example: Asking GPT to ratify its own answer\n",
        "(Experimental ... it rarely seems to agree with itself :)\n",
        "\n",
        "### Setting environ['OPEN_AI_KEY']\n",
        "First we must setup open ai keys. See [README](https://github.com/microprediction/gptprobe) for expanation. You should edit the following:\n"
      ],
      "metadata": {
        "id": "fFJydfRjtkJs"
      }
    },
    {
      "cell_type": "code",
      "source": [
        "import os\n",
        "os.environ['OPEN_AI_KEY'] = 'sk-ekObananasinpijamasarerunningeverywhere4s'"
      ],
      "metadata": {
        "id": "vRvQxfTMt5LR"
      },
      "execution_count": 7,
      "outputs": []
    },
    {
      "cell_type": "markdown",
      "source": [
        "(I will instead load my keys ...)"
      ],
      "metadata": {
        "id": "xhYgOmYErA3u"
      }
    },
    {
      "cell_type": "code",
      "source": [
        "def set_environ_from_colab():\n",
        "    from google.colab import drive\n",
        "    drive.mount('/content/drive')\n",
        "    import json\n",
        "    with open('/content/drive/MyDrive/open_ai_keys.json', 'r') as f:\n",
        "        names_and_keys = json.load(f)\n",
        "        for name, key in names_and_keys.items():\n",
        "            os.environ[name]=key\n",
        "\n",
        "set_environ_from_colab()"
      ],
      "metadata": {
        "colab": {
          "base_uri": "https://localhost:8080/"
        },
        "id": "J0FfbTOJrFti",
        "outputId": "44da845c-95e7-4517-c294-6c82cb38c184"
      },
      "execution_count": 8,
      "outputs": [
        {
          "output_type": "stream",
          "name": "stdout",
          "text": [
            "Drive already mounted at /content/drive; to attempt to forcibly remount, call drive.mount(\"/content/drive\", force_remount=True).\n"
          ]
        }
      ]
    },
    {
      "cell_type": "markdown",
      "source": [
        "## Using GPT4 to check that it really answered a question"
      ],
      "metadata": {
        "id": "KvNTfr_YuYhN"
      }
    },
    {
      "cell_type": "code",
      "source": [
        "from gptprobe.askfor.dictfromquestionwithratification import ask_for_dict_from_question_with_ratification\n",
        "\n",
        "question = \"\"\"Return a dictionary with double-quoted keys comprising five tree names and numeric values\n",
        "              indicating the month of the year when they are most likely to bloom. \n",
        "            \"\"\"\n",
        "import os\n",
        "os.environ['GPTPROBE_VERBOSITY']=\"1\"\n",
        "\n",
        "d = ask_for_dict_from_question_with_ratification(question=question)\n",
        "print(d)"
      ],
      "metadata": {
        "colab": {
          "base_uri": "https://localhost:8080/"
        },
        "id": "LVgOPj8-zWiU",
        "outputId": "7b69cdd3-5e57-49ad-f177-91b0573912fc"
      },
      "execution_count": 9,
      "outputs": [
        {
          "output_type": "stream",
          "name": "stdout",
          "text": [
            "{'Oak': 5, 'Magnolia': 4, 'Cherry': 3, 'Apple': 5, 'Dogwood': 4}\n"
          ]
        }
      ]
    }
  ]
}