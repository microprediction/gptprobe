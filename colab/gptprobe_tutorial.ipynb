{
  "nbformat": 4,
  "nbformat_minor": 0,
  "metadata": {
    "colab": {
      "provenance": [],
      "authorship_tag": "ABX9TyPaemBNB/GIErgER2i3X83C",
      "include_colab_link": true
    },
    "kernelspec": {
      "name": "python3",
      "display_name": "Python 3"
    },
    "language_info": {
      "name": "python"
    }
  },
  "cells": [
    {
      "cell_type": "markdown",
      "metadata": {
        "id": "view-in-github",
        "colab_type": "text"
      },
      "source": [
        "<a href=\"https://colab.research.google.com/github/microprediction/gptprobe/blob/main/colab/gptprobe_tutorial.ipynb\" target=\"_parent\"><img src=\"https://colab.research.google.com/assets/colab-badge.svg\" alt=\"Open In Colab\"/></a>"
      ]
    },
    {
      "cell_type": "code",
      "execution_count": null,
      "metadata": {
        "id": "tie1fmkDtL45"
      },
      "outputs": [],
      "source": [
        "!pip install --upgrade git+https://github.com/microprediction/gptprobe.git"
      ]
    },
    {
      "cell_type": "markdown",
      "source": [
        "# GPTProbe tutorial\n",
        "First we must setup open ai keys. See [README](https://github.com/microprediction/gptprobe) for expanation\n"
      ],
      "metadata": {
        "id": "fFJydfRjtkJs"
      }
    },
    {
      "cell_type": "code",
      "source": [
        "GPT_PROBE_0 = 'sk-ekObananasinpijamasarerunningeverywhere4s'\n",
        "GPT_PROBE_1 = 'sk-X0hinsolentnoodlboggleblimpspT3'\n",
        "GPT_PROBE_2 = 'sk-24W74prompengineeringsadflolroflwRc'\n",
        "import os\n",
        "os.environ['OPEN_AI_KEY_0'] = GPT_PROBE_0\n",
        "os.environ['OPEN_AI_KEY_1'] = GPT_PROBE_1\n",
        "os.environ['OPEN_AI_KEY_2'] = GPT_PROBE_2"
      ],
      "metadata": {
        "id": "vRvQxfTMt5LR"
      },
      "execution_count": 2,
      "outputs": []
    },
    {
      "cell_type": "markdown",
      "source": [
        "### Using GPT4 as a text parsing engine\n",
        "There are plenty of tools for trying to massage unstructured data, but none quite as general as ChatGPT4\n"
      ],
      "metadata": {
        "id": "vpigaavWuBna"
      }
    },
    {
      "cell_type": "code",
      "source": [
        "from gptprobe.askfor.textfrompoorlyformatteddicttext import ask_for_text_from_poorly_formatted_dict_text\n",
        "messy_dict_text = \"\"\" Final score are \n",
        "                                      Australia  1 \n",
        "                                      Brazil     2\n",
        "                                        bummer \"\"\"\n",
        "print(ask_for_text_from_poorly_formatted_dict_text(text = messy_dict_text))"
      ],
      "metadata": {
        "colab": {
          "base_uri": "https://localhost:8080/"
        },
        "id": "YiCx1OAuuFoj",
        "outputId": "b660df7b-a85f-4021-e40c-3fe002f9aefe"
      },
      "execution_count": 3,
      "outputs": [
        {
          "output_type": "stream",
          "name": "stdout",
          "text": [
            "{\"Australia\": \"1\", \"Brazil\": \"2\"}\n"
          ]
        }
      ]
    },
    {
      "cell_type": "markdown",
      "source": [
        "## Using GPT4 to check that it really answered a question"
      ],
      "metadata": {
        "id": "KvNTfr_YuYhN"
      }
    },
    {
      "cell_type": "code",
      "source": [
        "from gptprobe.askfor.dictfromquestionwithratification import ask_for_dict_from_question_with_ratification\n",
        "\n",
        "question = \"\"\"Return a dictionary with double-quoted keys comprising five tree names and numeric values\n",
        "              indicating the month of the year when they are most likely to bloom. \n",
        "            \"\"\"\n",
        "import os\n",
        "os.environ['GPTPROBE_VERBOSITY']=\"1\"\n",
        "\n",
        "d = ask_for_dict_from_question_with_ratification(question=question)\n",
        "print(d)"
      ],
      "metadata": {
        "colab": {
          "base_uri": "https://localhost:8080/"
        },
        "id": "LVgOPj8-zWiU",
        "outputId": "50221cb8-b601-4ed6-bbd3-8610fccd65bf"
      },
      "execution_count": 4,
      "outputs": [
        {
          "output_type": "stream",
          "name": "stdout",
          "text": [
            "{'Cherry Blossom': 4, 'Oak': 5, 'Maple': 6, 'Dogwood': 4, 'Magnolia': 5}\n"
          ]
        }
      ]
    }
  ]
}