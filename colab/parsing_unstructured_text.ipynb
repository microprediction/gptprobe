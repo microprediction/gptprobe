{
  "nbformat": 4,
  "nbformat_minor": 0,
  "metadata": {
    "colab": {
      "provenance": [],
      "authorship_tag": "ABX9TyMsXrWw6CE+TmyxWj1v5YTL",
      "include_colab_link": true
    },
    "kernelspec": {
      "name": "python3",
      "display_name": "Python 3"
    },
    "language_info": {
      "name": "python"
    }
  },
  "cells": [
    {
      "cell_type": "markdown",
      "metadata": {
        "id": "view-in-github",
        "colab_type": "text"
      },
      "source": [
        "<a href=\"https://colab.research.google.com/github/microprediction/gptprobe/blob/main/colab/parsing_unstructured_text.ipynb\" target=\"_parent\"><img src=\"https://colab.research.google.com/assets/colab-badge.svg\" alt=\"Open In Colab\"/></a>"
      ]
    },
    {
      "cell_type": "code",
      "execution_count": null,
      "metadata": {
        "id": "tie1fmkDtL45"
      },
      "outputs": [],
      "source": [
        "!pip install --upgrade git+https://github.com/microprediction/gptprobe.git\n",
        "# or just pip install gptprobe"
      ]
    },
    {
      "cell_type": "markdown",
      "source": [
        "# GPTProbe example: parsing unstructured text\n",
        "\n",
        "### Setting environ['OPEN_AI_KEY']\n",
        "First we must setup open ai keys. See [README](https://github.com/microprediction/gptprobe) for expanation. You should edit the following:\n"
      ],
      "metadata": {
        "id": "fFJydfRjtkJs"
      }
    },
    {
      "cell_type": "code",
      "source": [
        "import os\n",
        "os.environ['OPEN_AI_KEY'] = 'sk-ekObananasinpijamasarerunningeverywhere4s'"
      ],
      "metadata": {
        "id": "vRvQxfTMt5LR"
      },
      "execution_count": 2,
      "outputs": []
    },
    {
      "cell_type": "markdown",
      "source": [
        "(I will instead load my keys ...)"
      ],
      "metadata": {
        "id": "xhYgOmYErA3u"
      }
    },
    {
      "cell_type": "code",
      "source": [
        "def set_environ_from_colab():\n",
        "    from google.colab import drive\n",
        "    drive.mount('/content/drive')\n",
        "    import json\n",
        "    with open('/content/drive/MyDrive/open_ai_keys.json', 'r') as f:\n",
        "        names_and_keys = json.load(f)\n",
        "        for name, key in names_and_keys.items():\n",
        "            os.environ[name]=key\n",
        "\n",
        "set_environ_from_colab()"
      ],
      "metadata": {
        "id": "J0FfbTOJrFti",
        "outputId": "5d37c557-3c80-4851-fb82-b6a9b6ce015d",
        "colab": {
          "base_uri": "https://localhost:8080/"
        }
      },
      "execution_count": 3,
      "outputs": [
        {
          "output_type": "stream",
          "name": "stdout",
          "text": [
            "Mounted at /content/drive\n"
          ]
        }
      ]
    },
    {
      "cell_type": "markdown",
      "source": [
        "### Using GPT4 as a text parsing engine\n",
        "There are plenty of tools for trying to massage unstructured data, but none quite as general as ChatGPT4\n"
      ],
      "metadata": {
        "id": "vpigaavWuBna"
      }
    },
    {
      "cell_type": "code",
      "source": [
        "from gptprobe.askfor.textfrompoorlyformatteddicttext import ask_for_text_from_poorly_formatted_dict_text\n",
        "messy_dict_text = \"\"\" Final score are \n",
        "                                      Australia  1 \n",
        "                                      Brazil     2\n",
        "                                        bummer \"\"\"\n",
        "print(ask_for_text_from_poorly_formatted_dict_text(text = messy_dict_text))"
      ],
      "metadata": {
        "colab": {
          "base_uri": "https://localhost:8080/"
        },
        "id": "YiCx1OAuuFoj",
        "outputId": "01022a9f-74b4-4ce2-e07f-1a779fa278fa"
      },
      "execution_count": 5,
      "outputs": [
        {
          "output_type": "stream",
          "name": "stdout",
          "text": [
            "{\"Australia\": \"1\", \"Brazil\": \"2\"}\n"
          ]
        }
      ]
    }
  ]
}